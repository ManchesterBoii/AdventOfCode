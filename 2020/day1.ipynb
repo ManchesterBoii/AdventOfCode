{
 "metadata": {
  "language_info": {
   "codemirror_mode": {
    "name": "ipython",
    "version": 3
   },
   "file_extension": ".py",
   "mimetype": "text/x-python",
   "name": "python",
   "nbconvert_exporter": "python",
   "pygments_lexer": "ipython3",
   "version": "3.7.7-final"
  },
  "orig_nbformat": 2,
  "kernelspec": {
   "name": "python3",
   "display_name": "Python 3",
   "language": "python"
  }
 },
 "nbformat": 4,
 "nbformat_minor": 2,
 "cells": [
  {
   "cell_type": "code",
   "execution_count": 1,
   "metadata": {},
   "outputs": [
    {
     "output_type": "stream",
     "name": "stdout",
     "text": [
      "1018336\n"
     ]
    }
   ],
   "source": [
    "inputs = open(\"input1.csv\",\"r\").readlines()\n",
    "for i in range(len(inputs)):\n",
    "    inputs[i] = int(inputs[i].strip())\n",
    "\n",
    "for i in range(len(inputs)):\n",
    "   diff = abs(2020 - inputs[i])\n",
    "   if diff in inputs:\n",
    "       print(diff*inputs[i])\n",
    "       break"
   ]
  },
  {
   "cell_type": "code",
   "execution_count": 4,
   "metadata": {},
   "outputs": [
    {
     "output_type": "stream",
     "name": "stdout",
     "text": [
      "288756720\n"
     ]
    }
   ],
   "source": [
    "from itertools import combinations \n",
    "  \n",
    "# Get all combinations of length 3 \n",
    "comb = list(combinations(inputs, 3) )\n",
    "\n",
    "for tup in perm:\n",
    "    if sum(tup) ==2020:\n",
    "        a,b,c = tup\n",
    "        print(a*b*c)\n",
    "        break\n",
    "\n",
    "  \n",
    "# Print the obtained permutations  "
   ]
  },
  {
   "cell_type": "code",
   "execution_count": null,
   "metadata": {},
   "outputs": [],
   "source": [
    "perm"
   ]
  },
  {
   "cell_type": "code",
   "execution_count": null,
   "metadata": {},
   "outputs": [],
   "source": []
  }
 ]
}